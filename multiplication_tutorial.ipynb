{
 "cells": [
  {
   "cell_type": "code",
   "execution_count": null,
   "id": "a089ec1f-26e9-42c4-8017-0277fc1a2dd4",
   "metadata": {},
   "outputs": [],
   "source": [
    "!pip install --upgrade qrisp"
   ]
  },
  {
   "cell_type": "markdown",
   "id": "166b0f3e-8b68-41fe-9168-7ae986a5880b",
   "metadata": {},
   "source": [
    "Implementing a quantum multiplier (almost) from scratch\n",
    "-------------------------------------------------------\n",
    "\n",
    "In this tutorial you will get an insight how Qrisp enables developers to write more and more high-level code starting from a small set of primitive. The goal of the tutorial is to write a function that multiplies two integers. As you might have learned already, this feature is already available via the * operator, so obviously you are not allowed to use it. We don't want to start from absolute zero (ie. gate-level) but restrict ourselves to use only one simple arithmetic primitive:\n",
    "\n",
    "A simple incrementor."
   ]
  },
  {
   "cell_type": "code",
   "execution_count": null,
   "id": "c25de323-b646-46c8-9a7d-a0abeeb42042",
   "metadata": {},
   "outputs": [],
   "source": [
    "from qrisp import *\n",
    "\n",
    "def increment_by_1(a, inpl_adder = fourier_adder):\n",
    "    \"\"\"\n",
    "    Increments the arguments value by 1, ie. it performs\n",
    "    a += 1\n",
    "\n",
    "    Overflow is treated by performing the arithmetic mod 2**len(a).\n",
    "    \n",
    "    Parameters\n",
    "    ----------\n",
    "    a : list[Qubit] or QuantumVariable\n",
    "        The quantum value that is incremented.\n",
    "    inpl_adder : Python callable\n",
    "        An optional Python function that performs in-place addition. The default is Draper's Fourier adder.\n",
    "    Returns\n",
    "    -------\n",
    "        None.\n",
    "    \"\"\"\n",
    "    inpl_adder(1, a)"
   ]
  },
  {
   "cell_type": "markdown",
   "id": "25266250-140a-4432-9932-27cd0dc1ee5a",
   "metadata": {},
   "source": [
    "To understand what this snippet does, please refer to the [documentation](https://www.qrisp.eu/reference/Miscellaneous%20Functions/generated/qrisp.fourier_adder.html#qrisp.fourier_adder). In simple terms, this function receives an argument $a$, which can either be a list of Qubits or a QuantumVariable, and increments the value by one. For that it calls a customizable adder. For now you can simply ignore the `inpl_adder` keyword - will used it later in the tutorial to build the multiplyer based on an alternative adder."
   ]
  },
  {
   "cell_type": "code",
   "execution_count": null,
   "id": "5c9e75af-7562-479f-8406-dc782fb017bd",
   "metadata": {},
   "outputs": [],
   "source": [
    "a = QuantumFloat(4)\n",
    "a[:] = 4\n",
    "print(a)\n",
    "increment_by_1(a)\n",
    "print(a)"
   ]
  },
  {
   "cell_type": "markdown",
   "id": "3e4fd7a9-1ecb-4473-9426-c8a965fe24e2",
   "metadata": {},
   "source": [
    "To move beyond such a simple functionality, we now want to elevate this to a function, that can increment by powers of two. For this, consider how binary addition works:\n",
    "$$\n",
    "\\begin{array}{cccccccc}\n",
    "  1 & 0 & 1 & 0 & 1 & 1 & 0 & 1 \\\\  % First binary number\n",
    "  + & 0 & 0 & 0 & 1 & 0 & 0 & 0 \\\\  % Second binary number\n",
    "&  & & \\tiny 1 & &  & &  \\\\[-2mm]  % Carry line\n",
    "\\hline\n",
    "  1 & 0 & 1 & 1 & 0 & 1 & 0 & 1 \\\\  % Result\n",
    "\\end{array}\n",
    "$$\n",
    "This instance of long addition adds the number $8 = 2^3 = (1000)_2$ to the number $ 173 = (10101101)_2$. By close examination you might discover that this procedure is basically the same as leaving the lowest 3 bits the same and calling a +1 incrementor on the rest. We can therefore write a function that increments by powers of two without much effort. Hint: QuantumVariables can be turned into lists of Qubits by calling the Python native `list` function on them."
   ]
  },
  {
   "cell_type": "code",
   "execution_count": null,
   "id": "ffb42f57-aae1-4656-a368-fbff703cd064",
   "metadata": {},
   "outputs": [],
   "source": [
    "\n",
    "def increment(u, a, inpl_adder = fourier_adder):\n",
    "    \"\"\"\n",
    "    Increments the quantum value a by the classical value u.\n",
    "    u has to be a power of 2.\n",
    "\n",
    "    Parameters\n",
    "    ----------\n",
    "    a : list[Qubit] or QuantumVariable\n",
    "        The quantum value that is incremented.\n",
    "    u : integer\n",
    "        A classical integer, which is added to the quantum value. Has to be a power of 2.\n",
    "    inpl_adder : Python callable\n",
    "        An optional Python function that performs in-place addition. The default is Draper's Fourier adder.\n",
    "        \n",
    "    Returns\n",
    "    -------\n",
    "        None.\n",
    "    \"\"\"\n",
    "    if u == 0:\n",
    "        return\n",
    "    if (u & (u - 1)):\n",
    "        raise Exception(\"Given parameter u is not a power of two\")\n",
    "        \n",
    "    # TO-DO:\n",
    "    # Slice the input \"a\" and call the increment_by_1 function to satisfy the requirements\n",
    "    # Make sure the inpl_adder keyword is properly transmitted!\n",
    "    pass\n",
    "\n",
    "a = QuantumFloat(4)\n",
    "a[:] = 4\n",
    "increment(4, a)\n",
    "print(a)\n",
    "# Should give {8: 1.0}"
   ]
  },
  {
   "cell_type": "code",
   "execution_count": null,
   "id": "27caba79-7e0a-4211-97ab-bc96a0d920e2",
   "metadata": {},
   "outputs": [],
   "source": [
    "# Test the result\n",
    "for i in range(7):\n",
    "\n",
    "    a = QuantumFloat(8)\n",
    "    b = QuantumFloat(8)\n",
    "    h(a)\n",
    "    b[:] = a\n",
    "    \n",
    "    increment(2**i, a)\n",
    "\n",
    "    meas_res = multi_measurement([a,b])\n",
    "\n",
    "    for a, b in meas_res.keys():\n",
    "\n",
    "        if (b + 2**i)%(2**8) != a:\n",
    "            raise\n",
    "    \n",
    "print(\"Congratulations! Your implementation works.\")"
   ]
  },
  {
   "cell_type": "markdown",
   "id": "11b7c020-a307-4208-8f68-4d3011946ec2",
   "metadata": {},
   "source": [
    "The next step is to see how multiplication can be understood as a series of controlled additions of powers of two. For this we use the very convenient semi-boolean polynomial formalism that we introduced in one of our [papers](https://arxiv.org/abs/2112.10537). \"Semi-boolean\" means that the input of the polynomial are booleans, but the coefficients can be integers. The conversion function from the binary representation $(a_0, a_1, a_2 .. a_n)$ to the corresponding integer $a$ can be written as a semi-boolean polynomial:\n",
    "\n",
    "$$\n",
    "a = \\sum_{i = 0}^{n-1} 2^i a_i\n",
    "$$\n",
    "\n",
    "If we have a multiplication of two numbers, the evaluation can also be written as a semi-boolean polynomial:\n",
    "\n",
    "$$\n",
    "a \\cdot b = \\left(\\sum_{i = 0}^{n-1} 2^i a_i\\right) \\cdot \\left(\\sum_{j = 0}^{n-1} 2^j b_j\\right) = \\sum_{i,j = 0}^{n-1} 2^{i+j} a_i b_j\n",
    "$$\n",
    "\n",
    "In the form of a classical algorithm the last expression therefore looks like this:"
   ]
  },
  {
   "cell_type": "code",
   "execution_count": null,
   "id": "3396fb86-d2c5-42fd-b6b0-aecb34b070d0",
   "metadata": {},
   "outputs": [],
   "source": [
    "# Create some dummy values for demonstration purposes\n",
    "a = [False, False, True, True] # Represents the value 1100 = 12\n",
    "b = [False, True, False, False] # Represents the value 0010 = 2\n",
    "\n",
    "s = 0\n",
    "for i in range(len(a)):\n",
    "    for j in range(len(b)):\n",
    "        if a[i] and b[j]:\n",
    "            s += 2**(i+j)\n",
    "print(s)"
   ]
  },
  {
   "cell_type": "markdown",
   "id": "27fe577d-2b05-4aa9-b26e-45a57d74b928",
   "metadata": {},
   "source": [
    "Since this is using only incrementations by powers of two, we are already quite close with our function from above! We somehow now need to get the `if` statement into the game. For this we use a Qrisp feature called [ControlEnvironment](https://www.qrisp.eu/reference/Quantum%20Environments/ControlEnvironment.html). This QuantumEnvironment compiles it's code such that it is only executed, if the given control qubits are in the $\\ket{1}$ state."
   ]
  },
  {
   "cell_type": "code",
   "execution_count": null,
   "id": "9801d141-e29e-42d3-b14b-57f567a03a22",
   "metadata": {},
   "outputs": [],
   "source": [
    "# Create some test values\n",
    "a = QuantumFloat(2)\n",
    "b = QuantumFloat(2)\n",
    "\n",
    "# Initializes the state |psi> = 1/2**0.5 (|00> + |11>)\n",
    "h(a[0])\n",
    "cx(a[0], a[1])\n",
    "\n",
    "# Performs a controlled incrementation\n",
    "with control(list(a)):\n",
    "    increment(2, b)\n",
    "\n",
    "# Visualizes the statevector\n",
    "a.qs.statevector()"
   ]
  },
  {
   "cell_type": "markdown",
   "id": "50712744-36ed-4489-9960-c5a6af3758ea",
   "metadata": {},
   "source": [
    "We see that the incrementation only happened for the state where the control qubits (ie. $a$) were in the $\\ket{(11)_2} = \\ket{3} $ state.\n",
    "To set up the multiplier, we will now use the classical code as a blueprint to transfer it to the quantum setting. The first step is declaring the variable $s$. Create a `QuantumFloat` that can hold the result without overflow by considering the bit size of the input $a, b$ using `len(a)`."
   ]
  },
  {
   "cell_type": "code",
   "execution_count": null,
   "id": "ebb1c17e-a2a0-4072-a585-3ff82807ae3f",
   "metadata": {},
   "outputs": [],
   "source": [
    "a = QuantumFloat(5)\n",
    "a[:] = 12\n",
    "\n",
    "b = QuantumFloat(5)\n",
    "b[:] = 2\n",
    "\n",
    "\n",
    "# TO-DO\n",
    "# Define a QuantumFloat s, that will hold the result of the multiplication without any overflow occuring.\n"
   ]
  },
  {
   "cell_type": "markdown",
   "id": "5c3a16c6-4f82-465c-85e6-2149d89831e3",
   "metadata": {},
   "source": [
    "The final step is to fuse everything together: The classical algorithm, together with the incrementor and the knowledge about the ControlEnvironment."
   ]
  },
  {
   "cell_type": "code",
   "execution_count": null,
   "id": "28056cc5-0e06-4980-8437-24bd10c690f1",
   "metadata": {},
   "outputs": [],
   "source": [
    "# TO-DO\n",
    "# Create the multiplyer\n",
    "for i in range(len(a)):\n",
    "    for j in range(len(b)):\n",
    "        with control([a[i], b[j]]):\n",
    "            increment(2**(i+j), s)\n",
    "\n",
    "print(s)"
   ]
  },
  {
   "cell_type": "markdown",
   "id": "d8a8925d-1f54-4e55-a85d-93cc8e4fb07c",
   "metadata": {},
   "source": [
    "To move up one step in the hierarchy of abstractions, it is not sufficient to simply have some working code. In order to test, maintain, benchmark etc. you need it in the form of a function. Collect the relevant snippets from above to define a function."
   ]
  },
  {
   "cell_type": "code",
   "execution_count": null,
   "id": "36876015-920f-4bed-8b8c-a9f1e6a57765",
   "metadata": {},
   "outputs": [],
   "source": [
    "\n",
    "def q_multiplyer(a, b, inpl_adder = fourier_adder):\n",
    "    \"\"\"\n",
    "    Multiplies the values of the QuantumFloats a, b and returns the value as a QuantumFloat\n",
    "    \n",
    "    Parameters\n",
    "    ----------\n",
    "    a : QuantumFloat\n",
    "        The first factor.\n",
    "    a : QuantumFloat\n",
    "        The second factor.\n",
    "    Returns\n",
    "    -------\n",
    "    s : QuantumFloat\n",
    "        The product of the two factors.\n",
    "    \"\"\"\n",
    "    \n",
    "    # TO-DO\n",
    "    # Collect the code from the previous cells to satisfy the requirements.\n",
    "    pass\n",
    "\n",
    "    "
   ]
  },
  {
   "cell_type": "code",
   "execution_count": null,
   "id": "bbd7d18c-ace5-4378-b4d1-80fef3038a40",
   "metadata": {},
   "outputs": [],
   "source": [
    "# Test the result\n",
    "for i in range(1, 5):\n",
    "\n",
    "    a = QuantumFloat(i)\n",
    "    b = QuantumFloat(i)\n",
    "    h(a)\n",
    "    h(b)\n",
    "    \n",
    "    s = q_multiplyer(a, b)\n",
    "\n",
    "    meas_res = multi_measurement([a,b,s])\n",
    "\n",
    "    for a, b, s in meas_res.keys():\n",
    "        if a*b != s:\n",
    "            raise\n",
    "    \n",
    "print(\"Congratulations! Your implementation works.\")"
   ]
  },
  {
   "cell_type": "markdown",
   "id": "34ee8d3f-1b50-4037-8d73-2a12745a6de4",
   "metadata": {},
   "source": [
    "Now that you have a tested solution, you want to benchmark it and subsequently make it more efficient. To measure the performance of your function, you call the `.compile` method of the `.qs` attribute of an arbitrary `QuantumVariable` participating in your solution. The `.qs` attribute contains the [QuantumSession](https://www.qrisp.eu/reference/Core/QuantumSession.html#qrisp.QuantumSession) which manages the lifetime cycle of `QuantumVariable`s and other aspects of high-level abstractions. The [compile](https://www.qrisp.eu/reference/Core/generated/qrisp.QuantumSession.compile.html#qrisp.QuantumSession.compile) method turns the `QuantumSession` into a [QuantumCircuit](https://www.qrisp.eu/reference/Circuit%20Construction/QuantumCircuit.html#qrisp.QuantumCircuit) that allows you to translate your function to Qiskit or other circuit representations."
   ]
  },
  {
   "cell_type": "code",
   "execution_count": null,
   "id": "99d96ce1-fff1-4a1c-a9cb-2b5d70899f5d",
   "metadata": {},
   "outputs": [],
   "source": [
    "a = QuantumFloat(5)\n",
    "b = QuantumFloat(5)\n",
    "h(a)\n",
    "h(b)\n",
    "\n",
    "s = q_multiplyer(a, b)\n",
    "\n",
    "qc = s.qs.compile().transpile()\n",
    "\n",
    "print(f\"Circuit depth: {qc.depth()}\")\n",
    "print(f\"Qubit count: {qc.num_qubits()}\")\n",
    "print(f\"Gate count: {qc.count_ops()}\")"
   ]
  },
  {
   "cell_type": "markdown",
   "id": "7becafe2-036d-486e-8a42-6ecca920ab8e",
   "metadata": {},
   "source": [
    "Quite good already!\n",
    "\n",
    "To improve the multiplyer we can now harness the fact we developed the multiplyer in a modular fashion, that is we can easily exchange the adder. The adder that we used so far is described [here](https://arxiv.org/abs/quant-ph/0008033) and utilizes the fact that it is very cheap (in terms of CNOT count) to perform additions on the Fourier transform of the state. The `fourier_adder` function therefore performs a Fourier transform, executes the addition as described in Draper's paper and subsequently reverses the Fourier transform.\n",
    "Why is this innefficient? Well, we have an algorithm at hand that performs a large number of subsequent additions, so it would be much cheaper to transform once at the beginning and then simply *stay* in the Fourier transform until the end. For situations like this, the `fourier_adder` function exposes the keyword `perform_QFT`, which - if set to `False` skips both Fourier transforms."
   ]
  },
  {
   "cell_type": "code",
   "execution_count": null,
   "id": "2dbb71eb-1344-4d61-92f6-cd0f09d53ee2",
   "metadata": {},
   "outputs": [],
   "source": [
    "# Define a function that performs fourier addition without entering/leaving fourier space\n",
    "def reduced_fourier_adder(a, b):\n",
    "    return fourier_adder(a, b, perform_QFT = False)\n",
    "\n",
    "a = QuantumFloat(4)\n",
    "b = QuantumFloat(4)\n",
    "\n",
    "a[:] = 3\n",
    "b[:] = 4\n",
    "\n",
    "# Call the adder wrapped with \"manual\" fourier transforms\n",
    "QFT(b, exec_swap = False)\n",
    "\n",
    "# This performs multiple subsequent adder calls \"b += a\"\n",
    "# without peforming a QFT in between.\n",
    "reduced_fourier_adder(a, b)\n",
    "reduced_fourier_adder(a, b)\n",
    "reduced_fourier_adder(a, b)\n",
    "\n",
    "QFT(b, exec_swap = False, inv = True)\n",
    "\n",
    "print(b)"
   ]
  },
  {
   "cell_type": "markdown",
   "id": "d10a447e-fefa-484c-9e3c-a00bdb2997be",
   "metadata": {},
   "source": [
    "Modify the multiplyer by performing the initial and the final QFT manually and call use the `reduced_fourier_adder` for the `increment` function!"
   ]
  },
  {
   "cell_type": "code",
   "execution_count": null,
   "id": "efdd9f96-78fa-492f-9f20-d56695d48b7e",
   "metadata": {},
   "outputs": [],
   "source": [
    "\n",
    "def q_multiplyer(a, b, inpl_adder = fourier_adder):\n",
    "    \"\"\"\n",
    "    Multiplies the values of the QuantumFloats a, b and returns the value as a QuantumFloat\n",
    "    \n",
    "    Parameters\n",
    "    ----------\n",
    "    a : QuantumFloat\n",
    "        The first factor.\n",
    "    a : QuantumFloat\n",
    "        The second factor.\n",
    "    Returns\n",
    "    -------\n",
    "    s : QuantumFloat\n",
    "        The product of the two factors.\n",
    "    \"\"\"\n",
    "    \n",
    "    s = QuantumFloat(len(a) + len(b))\n",
    "\n",
    "    # TO-DO\n",
    "    # Modify the code from your q_multiplyer such that the increment function\n",
    "    # uses the reduced_fourier_adder instead\n",
    "    \n",
    "    pass\n",
    "\n",
    "a = QuantumFloat(5)\n",
    "a[:] = 5\n",
    "\n",
    "b = QuantumFloat(5)\n",
    "b[:] = 7\n",
    "\n",
    "s = q_multiplyer(a, b)\n",
    "\n",
    "print(s)\n"
   ]
  },
  {
   "cell_type": "code",
   "execution_count": null,
   "id": "e08d7c70-40e7-4f22-9aad-0ca149c5b971",
   "metadata": {},
   "outputs": [],
   "source": [
    "# Test the result\n",
    "for i in range(1, 5):\n",
    "\n",
    "    a = QuantumFloat(i)\n",
    "    b = QuantumFloat(i)\n",
    "    h(a)\n",
    "    h(b)\n",
    "    \n",
    "    s = q_multiplyer(a, b)\n",
    "\n",
    "    meas_res = multi_measurement([a,b,s])\n",
    "    \n",
    "\n",
    "    for a, b, s in meas_res.keys():\n",
    "        if a*b != s:\n",
    "            raise\n",
    "    \n",
    "print(\"Congratulations! Your implementation works.\")"
   ]
  },
  {
   "cell_type": "markdown",
   "id": "ca4cd11e-642c-4068-87d4-d066d4fc1f03",
   "metadata": {},
   "source": [
    "To measure the difference in performance, we benchmark again."
   ]
  },
  {
   "cell_type": "code",
   "execution_count": null,
   "id": "51708cd5-5f43-41e1-a4ee-e496b289ba36",
   "metadata": {},
   "outputs": [],
   "source": [
    "\n",
    "a = QuantumFloat(5)\n",
    "b = QuantumFloat(5)\n",
    "h(a)\n",
    "h(b)\n",
    "\n",
    "s = q_multiplyer(a, b)\n",
    "\n",
    "qc = s.qs.compile().transpile()\n",
    "\n",
    "print(f\"Circuit depth: {qc.depth()}\")\n",
    "print(f\"Qubit count: {qc.num_qubits()}\")\n",
    "print(f\"Gate count: {qc.count_ops()}\")"
   ]
  },
  {
   "cell_type": "markdown",
   "id": "bb117463-5dbe-4402-9adc-827f8874cf35",
   "metadata": {},
   "source": [
    "For the last challenge of this notebook, we want to make you familiar with the `workspace` keyword of the `.compile` method. This keyword allows you to give the compiler some extra qubits to work with, which can reduce the depth. By trying out different options, find the amount of workspace qubits, which is required to bring the depth below 200! Feel free to compare these results to the Qiskit implementation below!"
   ]
  },
  {
   "cell_type": "code",
   "execution_count": null,
   "id": "fc77cda0-a49d-4e53-8ea8-24a3e145c27d",
   "metadata": {},
   "outputs": [],
   "source": [
    "from qiskit import (QuantumCircuit, QuantumRegister,\n",
    "ClassicalRegister, Aer, execute, transpile)\n",
    "from qiskit.circuit.library import RGQFTMultiplier\n",
    "n = 5\n",
    "\n",
    "# Create Quantum Registers\n",
    "a = QuantumRegister(n)\n",
    "b = QuantumRegister(n)\n",
    "res = QuantumRegister(2*n)\n",
    "cl_res = ClassicalRegister(2*n)\n",
    "\n",
    "# Create QuantumCircuit\n",
    "qc = QuantumCircuit(a, b, res, cl_res)\n",
    "\n",
    "# Encode Values 3 and 4\n",
    "for i in range(len(a)):\n",
    "    if 3 & 1<<i: qc.x(a[i])\n",
    "for i in range(len(b)):\n",
    "    if 4 & 1<<i: qc.x(b[i])\n",
    "\n",
    "# Load a multiplyer function from the Qiskit library\n",
    "# and append the gate\n",
    "qc.append(RGQFTMultiplier(n, 2*n), list(a) + list(b) + list(res))\n",
    "\n",
    "# Measure the result qubits\n",
    "qc.measure(res, cl_res)\n",
    "\n",
    "qc = transpile(qc, basis_gates = [\"cx\", \"u\"])\n",
    "\n",
    "# Perform the simulation\n",
    "backend = Aer.get_backend('qasm_simulator')\n",
    "counts_dic = execute(qc, backend).result().get_counts()\n",
    "print({int(k, 2) : v for k, v in counts_dic.items()})\n",
    "#Yields: {12: 1024}\n",
    "\n",
    "# Benchmark\n",
    "from qiskit import transpile\n",
    "print(f\"Depth: {qc.depth()}\")\n",
    "print(f\"Gate count: {qc.count_ops()}\")\n",
    "print(f\"Qubit count: {qc.num_qubits}\")"
   ]
  }
 ],
 "metadata": {
  "kernelspec": {
   "display_name": "Python 3 (ipykernel)",
   "language": "python",
   "name": "python3"
  },
  "language_info": {
   "codemirror_mode": {
    "name": "ipython",
    "version": 3
   },
   "file_extension": ".py",
   "mimetype": "text/x-python",
   "name": "python",
   "nbconvert_exporter": "python",
   "pygments_lexer": "ipython3",
   "version": "3.10.6"
  }
 },
 "nbformat": 4,
 "nbformat_minor": 5
}
