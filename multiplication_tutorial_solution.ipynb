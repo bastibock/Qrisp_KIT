{
 "cells": [
  {
   "cell_type": "code",
   "execution_count": null,
   "id": "a089ec1f-26e9-42c4-8017-0277fc1a2dd4",
   "metadata": {},
   "outputs": [],
   "source": [
    "!pip install --upgrade qrisp"
   ]
  },
  {
   "cell_type": "markdown",
   "id": "166b0f3e-8b68-41fe-9168-7ae986a5880b",
   "metadata": {},
   "source": [
    "Implementing a quantum multiplier (almost) from scratch\n",
    "-------------------------------------------------------\n",
    "\n",
    "In this tutorial you will get an insight how Qrisp enables developers to write more and more high-level code starting from a small set of primitive. The goal of the tutorial is to write a function that multiplies two integers. As you might have learned already, this feature is already available via the * operator, so obviously you are not allowed to use it. We don't want to start from absolute zero (ie. gate-level) but restrict ourselves to use only one simple arithmetic primitive:\n",
    "\n",
    "A simple incrementor."
   ]
  },
  {
   "cell_type": "code",
   "execution_count": 1,
   "id": "c25de323-b646-46c8-9a7d-a0abeeb42042",
   "metadata": {},
   "outputs": [
    {
     "data": {
      "text/html": [
       "\n",
       "\t\t\t<script type=\"text/javascript\">\n",
       "\t\t\t<!--\n",
       "\t\t\t\t\n",
       "\t\t\t{\n",
       "\t\t\t\tvar element = document.getElementById('NetworKit_script');\n",
       "\t\t\t\tif (element) {\n",
       "\t\t\t\t\telement.parentNode.removeChild(element);\n",
       "\t\t\t\t}\n",
       "\t\t\t\telement = document.createElement('script');\n",
       "\t\t\t\telement.type = 'text/javascript';\n",
       "\t\t\t\telement.innerHTML = 'function NetworKit_pageEmbed(id) { var i, j; var elements; elements = document.getElementById(id).getElementsByClassName(\"Plot\"); for (i=0; i<elements.length; i++) { elements[i].id = id + \"_Plot_\" + i; var data = elements[i].getAttribute(\"data-image\").split(\"|\"); elements[i].removeAttribute(\"data-image\"); var content = \"<div class=\\\\\"Image\\\\\" id=\\\\\"\" + elements[i].id + \"_Image\\\\\" />\"; elements[i].innerHTML = content; elements[i].setAttribute(\"data-image-index\", 0); elements[i].setAttribute(\"data-image-length\", data.length); for (j=0; j<data.length; j++) { elements[i].setAttribute(\"data-image-\" + j, data[j]); } NetworKit_plotUpdate(elements[i]); elements[i].onclick = function (e) { NetworKit_overlayShow((e.target) ? e.target : e.srcElement); } } elements = document.getElementById(id).getElementsByClassName(\"HeatCell\"); for (i=0; i<elements.length; i++) { var data = parseFloat(elements[i].getAttribute(\"data-heat\")); var color = \"#00FF00\"; if (data <= 1 && data > 0) { color = \"hsla(0, 100%, 75%, \" + (data) + \")\"; } else if (data <= 0 && data >= -1) { color = \"hsla(240, 100%, 75%, \" + (-data) + \")\"; } elements[i].style.backgroundColor = color; } elements = document.getElementById(id).getElementsByClassName(\"Details\"); for (i=0; i<elements.length; i++) { elements[i].setAttribute(\"data-title\", \"-\"); NetworKit_toggleDetails(elements[i]); elements[i].onclick = function (e) { NetworKit_toggleDetails((e.target) ? e.target : e.srcElement); } } elements = document.getElementById(id).getElementsByClassName(\"MathValue\"); for (i=elements.length-1; i>=0; i--) { value = elements[i].innerHTML.trim(); if (value === \"nan\") { elements[i].parentNode.innerHTML = \"\" } } elements = document.getElementById(id).getElementsByClassName(\"SubCategory\"); for (i=elements.length-1; i>=0; i--) { value = elements[i].innerHTML.trim(); if (value === \"\") { elements[i].parentNode.removeChild(elements[i]) } } elements = document.getElementById(id).getElementsByClassName(\"Category\"); for (i=elements.length-1; i>=0; i--) { value = elements[i].innerHTML.trim(); if (value === \"\") { elements[i].parentNode.removeChild(elements[i]) } } var isFirefox = false; try { isFirefox = typeof InstallTrigger !== \"undefined\"; } catch (e) {} if (!isFirefox) { alert(\"Currently the function\\'s output is only fully supported by Firefox.\"); } } function NetworKit_plotUpdate(source) { var index = source.getAttribute(\"data-image-index\"); var data = source.getAttribute(\"data-image-\" + index); var image = document.getElementById(source.id + \"_Image\"); image.style.backgroundImage = \"url(\" + data + \")\"; } function NetworKit_showElement(id, show) { var element = document.getElementById(id); element.style.display = (show) ? \"block\" : \"none\"; } function NetworKit_overlayShow(source) { NetworKit_overlayUpdate(source); NetworKit_showElement(\"NetworKit_Overlay\", true); } function NetworKit_overlayUpdate(source) { document.getElementById(\"NetworKit_Overlay_Title\").innerHTML = source.title; var index = source.getAttribute(\"data-image-index\"); var data = source.getAttribute(\"data-image-\" + index); var image = document.getElementById(\"NetworKit_Overlay_Image\"); image.setAttribute(\"data-id\", source.id); image.style.backgroundImage = \"url(\" + data + \")\"; var link = document.getElementById(\"NetworKit_Overlay_Toolbar_Bottom_Save\"); link.href = data; link.download = source.title + \".svg\"; } function NetworKit_overlayImageShift(delta) { var image = document.getElementById(\"NetworKit_Overlay_Image\"); var source = document.getElementById(image.getAttribute(\"data-id\")); var index = parseInt(source.getAttribute(\"data-image-index\")); var length = parseInt(source.getAttribute(\"data-image-length\")); var index = (index+delta) % length; if (index < 0) { index = length + index; } source.setAttribute(\"data-image-index\", index); NetworKit_overlayUpdate(source); } function NetworKit_toggleDetails(source) { var childs = source.children; var show = false; if (source.getAttribute(\"data-title\") == \"-\") { source.setAttribute(\"data-title\", \"+\"); show = false; } else { source.setAttribute(\"data-title\", \"-\"); show = true; } for (i=0; i<childs.length; i++) { if (show) { childs[i].style.display = \"block\"; } else { childs[i].style.display = \"none\"; } } }';\n",
       "\t\t\t\telement.setAttribute('id', 'NetworKit_script');\n",
       "\t\t\t\tdocument.head.appendChild(element);\n",
       "\t\t\t}\n",
       "\t\t\n",
       "\t\t\t\t\n",
       "\t\t\t{\n",
       "\t\t\t\tvar element = document.getElementById('NetworKit_style');\n",
       "\t\t\t\tif (element) {\n",
       "\t\t\t\t\telement.parentNode.removeChild(element);\n",
       "\t\t\t\t}\n",
       "\t\t\t\telement = document.createElement('style');\n",
       "\t\t\t\telement.type = 'text/css';\n",
       "\t\t\t\telement.innerHTML = '.NetworKit_Page { font-family: Arial, Helvetica, sans-serif; font-size: 14px; } .NetworKit_Page .Value:before { font-family: Arial, Helvetica, sans-serif; font-size: 1.05em; content: attr(data-title) \":\"; margin-left: -2.5em; padding-right: 0.5em; } .NetworKit_Page .Details .Value:before { display: block; } .NetworKit_Page .Value { font-family: monospace; white-space: pre; padding-left: 2.5em; white-space: -moz-pre-wrap !important; white-space: -pre-wrap; white-space: -o-pre-wrap; white-space: pre-wrap; word-wrap: break-word; tab-size: 4; -moz-tab-size: 4; } .NetworKit_Page .Category { clear: both; padding-left: 1em; margin-bottom: 1.5em; } .NetworKit_Page .Category:before { content: attr(data-title); font-size: 1.75em; display: block; margin-left: -0.8em; margin-bottom: 0.5em; } .NetworKit_Page .SubCategory { margin-bottom: 1.5em; padding-left: 1em; } .NetworKit_Page .SubCategory:before { font-size: 1.6em; display: block; margin-left: -0.8em; margin-bottom: 0.5em; } .NetworKit_Page .SubCategory[data-title]:before { content: attr(data-title); } .NetworKit_Page .Block { display: block; } .NetworKit_Page .Block:after { content: \".\"; visibility: hidden; display: block; height: 0; clear: both; } .NetworKit_Page .Block .Thumbnail_Overview, .NetworKit_Page .Block .Thumbnail_ScatterPlot { width: 260px; float: left; } .NetworKit_Page .Block .Thumbnail_Overview img, .NetworKit_Page .Block .Thumbnail_ScatterPlot img { width: 260px; } .NetworKit_Page .Block .Thumbnail_Overview:before, .NetworKit_Page .Block .Thumbnail_ScatterPlot:before { display: block; text-align: center; font-weight: bold; } .NetworKit_Page .Block .Thumbnail_Overview:before { content: attr(data-title); } .NetworKit_Page .HeatCell { font-family: \"Courier New\", Courier, monospace; cursor: pointer; } .NetworKit_Page .HeatCell, .NetworKit_Page .HeatCellName { display: inline; padding: 0.1em; margin-right: 2px; background-color: #FFFFFF } .NetworKit_Page .HeatCellName { margin-left: 0.25em; } .NetworKit_Page .HeatCell:before { content: attr(data-heat); display: inline-block; color: #000000; width: 4em; text-align: center; } .NetworKit_Page .Measure { clear: both; } .NetworKit_Page .Measure .Details { cursor: pointer; } .NetworKit_Page .Measure .Details:before { content: \"[\" attr(data-title) \"]\"; display: block; } .NetworKit_Page .Measure .Details .Value { border-left: 1px dotted black; margin-left: 0.4em; padding-left: 3.5em; pointer-events: none; } .NetworKit_Page .Measure .Details .Spacer:before { content: \".\"; opacity: 0.0; pointer-events: none; } .NetworKit_Page .Measure .Plot { width: 440px; height: 440px; cursor: pointer; float: left; margin-left: -0.9em; margin-right: 20px; } .NetworKit_Page .Measure .Plot .Image { background-repeat: no-repeat; background-position: center center; background-size: contain; height: 100%; pointer-events: none; } .NetworKit_Page .Measure .Stat { width: 500px; float: left; } .NetworKit_Page .Measure .Stat .Group { padding-left: 1.25em; margin-bottom: 0.75em; } .NetworKit_Page .Measure .Stat .Group .Title { font-size: 1.1em; display: block; margin-bottom: 0.3em; margin-left: -0.75em; border-right-style: dotted; border-right-width: 1px; border-bottom-style: dotted; border-bottom-width: 1px; background-color: #D0D0D0; padding-left: 0.2em; } .NetworKit_Page .Measure .Stat .Group .List { -webkit-column-count: 3; -moz-column-count: 3; column-count: 3; } .NetworKit_Page .Measure .Stat .Group .List .Entry { position: relative; line-height: 1.75em; } .NetworKit_Page .Measure .Stat .Group .List .Entry[data-tooltip]:before { position: absolute; left: 0; top: -40px; background-color: #808080; color: #ffffff; height: 30px; line-height: 30px; border-radius: 5px; padding: 0 15px; content: attr(data-tooltip); white-space: nowrap; display: none; } .NetworKit_Page .Measure .Stat .Group .List .Entry[data-tooltip]:after { position: absolute; left: 15px; top: -10px; border-top: 7px solid #808080; border-left: 7px solid transparent; border-right: 7px solid transparent; content: \"\"; display: none; } .NetworKit_Page .Measure .Stat .Group .List .Entry[data-tooltip]:hover:after, .NetworKit_Page .Measure .Stat .Group .List .Entry[data-tooltip]:hover:before { display: block; } .NetworKit_Page .Measure .Stat .Group .List .Entry .MathValue { font-family: \"Courier New\", Courier, monospace; } .NetworKit_Page .Measure:after { content: \".\"; visibility: hidden; display: block; height: 0; clear: both; } .NetworKit_Page .PartitionPie { clear: both; } .NetworKit_Page .PartitionPie img { width: 600px; } #NetworKit_Overlay { left: 0px; top: 0px; display: none; position: absolute; width: 100%; height: 100%; background-color: rgba(0,0,0,0.6); z-index: 1000; } #NetworKit_Overlay_Title { position: absolute; color: white; transform: rotate(-90deg); width: 32em; height: 32em; padding-right: 0.5em; padding-top: 0.5em; text-align: right; font-size: 40px; } #NetworKit_Overlay .button { background: white; cursor: pointer; } #NetworKit_Overlay .button:before { size: 13px; display: inline-block; text-align: center; margin-top: 0.5em; margin-bottom: 0.5em; width: 1.5em; height: 1.5em; } #NetworKit_Overlay .icon-close:before { content: \"X\"; } #NetworKit_Overlay .icon-previous:before { content: \"P\"; } #NetworKit_Overlay .icon-next:before { content: \"N\"; } #NetworKit_Overlay .icon-save:before { content: \"S\"; } #NetworKit_Overlay_Toolbar_Top, #NetworKit_Overlay_Toolbar_Bottom { position: absolute; width: 40px; right: 13px; text-align: right; z-index: 1100; } #NetworKit_Overlay_Toolbar_Top { top: 0.5em; } #NetworKit_Overlay_Toolbar_Bottom { Bottom: 0.5em; } #NetworKit_Overlay_ImageContainer { position: absolute; top: 5%; left: 5%; height: 90%; width: 90%; background-repeat: no-repeat; background-position: center center; background-size: contain; } #NetworKit_Overlay_Image { height: 100%; width: 100%; background-repeat: no-repeat; background-position: center center; background-size: contain; }';\n",
       "\t\t\t\telement.setAttribute('id', 'NetworKit_style');\n",
       "\t\t\t\tdocument.head.appendChild(element);\n",
       "\t\t\t}\n",
       "\t\t\n",
       "\t\t\t\t\n",
       "\t\t\t{\n",
       "\t\t\t\tvar element = document.getElementById('NetworKit_Overlay');\n",
       "\t\t\t\tif (element) {\n",
       "\t\t\t\t\telement.parentNode.removeChild(element);\n",
       "\t\t\t\t}\n",
       "\t\t\t\telement = document.createElement('div');\n",
       "\t\t\t\telement.innerHTML = '<div id=\"NetworKit_Overlay_Toolbar_Top\"><div class=\"button icon-close\" id=\"NetworKit_Overlay_Close\" /></div><div id=\"NetworKit_Overlay_Title\" /> <div id=\"NetworKit_Overlay_ImageContainer\"> <div id=\"NetworKit_Overlay_Image\" /> </div> <div id=\"NetworKit_Overlay_Toolbar_Bottom\"> <div class=\"button icon-previous\" onclick=\"NetworKit_overlayImageShift(-1)\" /> <div class=\"button icon-next\" onclick=\"NetworKit_overlayImageShift(1)\" /> <a id=\"NetworKit_Overlay_Toolbar_Bottom_Save\"><div class=\"button icon-save\" /></a> </div>';\n",
       "\t\t\t\telement.setAttribute('id', 'NetworKit_Overlay');\n",
       "\t\t\t\tdocument.body.appendChild(element);\n",
       "\t\t\t\tdocument.getElementById('NetworKit_Overlay_Close').onclick = function (e) {\n",
       "\t\t\t\t\tdocument.getElementById('NetworKit_Overlay').style.display = 'none';\n",
       "\t\t\t\t}\n",
       "\t\t\t}\n",
       "\t\t\n",
       "\t\t\t-->\n",
       "\t\t\t</script>\n",
       "\t\t"
      ]
     },
     "metadata": {},
     "output_type": "display_data"
    }
   ],
   "source": [
    "from qrisp import *\n",
    "\n",
    "def increment_by_1(a, inpl_adder = fourier_adder):\n",
    "    \"\"\"\n",
    "    Increments the arguments value by 1, ie. it performs\n",
    "    a += 1\n",
    "\n",
    "    Overflow is treated by performing the arithmetic mod 2**len(a).\n",
    "    \n",
    "    Parameters\n",
    "    ----------\n",
    "    a : list[Qubit] or QuantumVariable\n",
    "        The quantum value that is incremented.\n",
    "    inpl_adder : Python callable\n",
    "        An optional Python function that performs in-place addition. The default is Draper's Fourier adder.\n",
    "    Returns\n",
    "    -------\n",
    "        None.\n",
    "    \"\"\"\n",
    "    inpl_adder(1, a)"
   ]
  },
  {
   "cell_type": "markdown",
   "id": "25266250-140a-4432-9932-27cd0dc1ee5a",
   "metadata": {},
   "source": [
    "To understand what this snippet does, please refer to the [documentation](https://www.qrisp.eu/reference/Miscellaneous%20Functions/generated/qrisp.fourier_adder.html#qrisp.fourier_adder). In simple terms, this function receives an argument $a$, which can either be a list of Qubits or a QuantumVariable, and increments the value by one. For that it calls a customizable adder. For now you can simply ignore the `inpl_adder` keyword - will used it later in the tutorial to build the multiplyer based on an alternative adder."
   ]
  },
  {
   "cell_type": "code",
   "execution_count": 2,
   "id": "5c9e75af-7562-479f-8406-dc782fb017bd",
   "metadata": {},
   "outputs": [
    {
     "name": "stdout",
     "output_type": "stream",
     "text": [
      "{4: 1.0}                                                                             \u001b[2K\n",
      "{5: 1.0}                                                                             \u001b[2K\n"
     ]
    }
   ],
   "source": [
    "a = QuantumFloat(4)\n",
    "a[:] = 4\n",
    "print(a)\n",
    "increment_by_1(a)\n",
    "print(a)"
   ]
  },
  {
   "cell_type": "markdown",
   "id": "3e4fd7a9-1ecb-4473-9426-c8a965fe24e2",
   "metadata": {},
   "source": [
    "To move beyond such a simple functionality, we now want to elevate this to a function, that can increment by powers of two. For this, consider how binary addition works:\n",
    "$$\n",
    "\\begin{array}{c@{}c@{}c@{}c@{}c@{}c@{}c@{}c}\n",
    "  1 & 0 & 1 & 0 & 1 & 1 & 0 & 1 \\\\  % First binary number\n",
    "  + & 0 & 0 & 0 & 1 & 0 & 0 & 0 \\\\  % Second binary number\n",
    "&  & & \\tiny 1 & &  & &  \\\\[-2mm]  % Carry line\n",
    "\\hline\n",
    "  1 & 0 & 1 & 1 & 0 & 1 & 0 & 1 \\\\  % Result\n",
    "\\end{array}\n",
    "$$\n",
    "This instance of long addition adds the number $8 = 2^3 = (1000)_2$ to the number $ 173 = (10101101)_2$. By close examination you might discover that this procedure is basically the same as leaving the lowest 3 bits the same and calling a +1 incrementor on the rest. We can therefore write a function that increments by powers of two without much effort. Hint: QuantumVariables can be turned into lists of Qubits by calling the Python native `list` function on them."
   ]
  },
  {
   "cell_type": "code",
   "execution_count": 3,
   "id": "ffb42f57-aae1-4656-a368-fbff703cd064",
   "metadata": {},
   "outputs": [
    {
     "name": "stdout",
     "output_type": "stream",
     "text": [
      "{8: 1.0}                                                                             \u001b[2K\n"
     ]
    }
   ],
   "source": [
    "\n",
    "def increment(u, a, inpl_adder = fourier_adder):\n",
    "    \"\"\"\n",
    "    Increments the quantum value a by the classical value u.\n",
    "    u has to be a power of 2.\n",
    "\n",
    "    Parameters\n",
    "    ----------\n",
    "    a : list[Qubit] or QuantumVariable\n",
    "        The quantum value that is incremented.\n",
    "    u : integer\n",
    "        A classical integer, which is added to the quantum value. Has to be a power of 2.\n",
    "    inpl_adder : Python callable\n",
    "        An optional Python function that performs in-place addition. The default is Draper's Fourier adder.\n",
    "        \n",
    "    Returns\n",
    "    -------\n",
    "        None.\n",
    "    \"\"\"\n",
    "    if u == 0:\n",
    "        return\n",
    "    if (u & (u - 1)):\n",
    "        raise Exception(\"Given parameter u is not a power of two\")\n",
    "        \n",
    "    # TO-DO:\n",
    "    # Slice the input \"a\" and call the increment_by_1 function to satisfy the requirements\n",
    "    # Make sure the inpl_adder keyword is properly transmitted!\n",
    "    log_u = int(np.log2(u))\n",
    "    increment_by_1(a[log_u:], inpl_adder = inpl_adder)\n",
    "\n",
    "\n",
    "a = QuantumFloat(4)\n",
    "a[:] = 4\n",
    "increment(4, a)\n",
    "print(a)\n",
    "# Should give {8: 1.0}"
   ]
  },
  {
   "cell_type": "code",
   "execution_count": 4,
   "id": "27caba79-7e0a-4211-97ab-bc96a0d920e2",
   "metadata": {},
   "outputs": [
    {
     "name": "stdout",
     "output_type": "stream",
     "text": [
      "Congratulations! Your implementation works.                                          \u001b[2K\u001b[2K\n"
     ]
    }
   ],
   "source": [
    "# Test the result\n",
    "for i in range(7):\n",
    "\n",
    "    a = QuantumFloat(8)\n",
    "    b = QuantumFloat(8)\n",
    "    h(a)\n",
    "    b[:] = a\n",
    "    \n",
    "    increment(2**i, a)\n",
    "\n",
    "    meas_res = multi_measurement([a,b])\n",
    "\n",
    "    for a, b in meas_res.keys():\n",
    "\n",
    "        if (b + 2**i)%(2**8) != a:\n",
    "            raise\n",
    "    \n",
    "print(\"Congratulations! Your implementation works.\")"
   ]
  },
  {
   "cell_type": "markdown",
   "id": "11b7c020-a307-4208-8f68-4d3011946ec2",
   "metadata": {},
   "source": [
    "The next step is to see how multiplication can be understood as a series of controlled additions of powers of two. For this we use the very convenient semi-boolean polynomial formalism that we introduced in one of our [papers](https://arxiv.org/abs/2112.10537). \"Semi-boolean\" means that the input of the polynomial are booleans, but the coefficients can be integers. The conversion function from the binary representation $(a_0, a_1, a_2 .. a_n)$ to the corresponding integer $a$ can be written as a semi-boolean polynomial:\n",
    "\n",
    "$$\n",
    "a = \\sum_{i = 0}^{n-1} 2^i a_i\n",
    "$$\n",
    "\n",
    "If we have a multiplication of two numbers, the evaluation can also be written as a semi-boolean polynomial:\n",
    "\n",
    "$$\n",
    "a \\cdot b = \\left(\\sum_{i = 0}^{n-1} 2^i a_i\\right) \\cdot \\left(\\sum_{j = 0}^{n-1} 2^j b_j\\right) = \\sum_{i,j = 0}^{n-1} 2^{i+j} a_i b_j\n",
    "$$\n",
    "\n",
    "In the form of a classical algorithm the last expression therefore looks like this:"
   ]
  },
  {
   "cell_type": "code",
   "execution_count": 5,
   "id": "3396fb86-d2c5-42fd-b6b0-aecb34b070d0",
   "metadata": {},
   "outputs": [
    {
     "name": "stdout",
     "output_type": "stream",
     "text": [
      "24\n"
     ]
    }
   ],
   "source": [
    "# Create some dummy values for demonstration purposes\n",
    "a = [False, False, True, True] # Represents the value 1100 = 12\n",
    "b = [False, True, False, False] # Represents the value 0010 = 2\n",
    "\n",
    "s = 0\n",
    "for i in range(len(a)):\n",
    "    for j in range(len(b)):\n",
    "        if a[i] and b[j]:\n",
    "            s += 2**(i+j)\n",
    "print(s)"
   ]
  },
  {
   "cell_type": "markdown",
   "id": "27fe577d-2b05-4aa9-b26e-45a57d74b928",
   "metadata": {},
   "source": [
    "Since this is using only incrementations by powers of two, we are already quite close with our function from above! We somehow now need to get the `if` statement into the game. For this we use a Qrisp feature called [ControlEnvironment](https://www.qrisp.eu/reference/Quantum%20Environments/ControlEnvironment.html). This QuantumEnvironment compiles it's code such that it is only executed, if the given control qubits are in the $\\ket{1}$ state."
   ]
  },
  {
   "cell_type": "code",
   "execution_count": 6,
   "id": "9801d141-e29e-42d3-b14b-57f567a03a22",
   "metadata": {},
   "outputs": [
    {
     "name": "stdout",
     "output_type": "stream",
     "text": [
      "                                                                                     \u001b[2K\r"
     ]
    },
    {
     "data": {
      "text/latex": [
       "$\\displaystyle \\frac{\\sqrt{2} \\left({\\left|0\\right\\rangle }^{2} + {\\left|3\\right\\rangle } {\\left|2\\right\\rangle }\\right)}{2}$"
      ],
      "text/plain": [
       "sqrt(2)*(|0>**2 + |3>*|2>)/2"
      ]
     },
     "execution_count": 6,
     "metadata": {},
     "output_type": "execute_result"
    }
   ],
   "source": [
    "# Create some test values\n",
    "a = QuantumFloat(2)\n",
    "b = QuantumFloat(2)\n",
    "\n",
    "# Initializes the state |psi> = 1/2**0.5 (|00> + |11>)\n",
    "h(a[0])\n",
    "cx(a[0], a[1])\n",
    "\n",
    "# Performs a controlled incrementation\n",
    "with control(list(a)):\n",
    "    increment(2, b)\n",
    "\n",
    "# Visualizes the statevector\n",
    "a.qs.statevector()"
   ]
  },
  {
   "cell_type": "markdown",
   "id": "50712744-36ed-4489-9960-c5a6af3758ea",
   "metadata": {},
   "source": [
    "We see that the incrementation only happened for the state where the control qubits (ie. $a$) were in the $\\ket{(11)_2} = \\ket{3} $ state.\n",
    "To set up the multiplier, we will now use the classical code as a blueprint to transfer it to the quantum setting. The first step is declaring the variable $s$. Create a `QuantumFloat` that can hold the result without overflow by considering the bit size of the input $a, b$ using `len(a)`."
   ]
  },
  {
   "cell_type": "code",
   "execution_count": 7,
   "id": "ebb1c17e-a2a0-4072-a585-3ff82807ae3f",
   "metadata": {},
   "outputs": [],
   "source": [
    "a = QuantumFloat(5)\n",
    "a[:] = 12\n",
    "\n",
    "b = QuantumFloat(5)\n",
    "b[:] = 2\n",
    "\n",
    "\n",
    "# TO-DO\n",
    "# Define a QuantumFloat s, that will hold the result of the multiplication without any overflow occuring.\n",
    "s = QuantumFloat(len(a) + len(b))"
   ]
  },
  {
   "cell_type": "markdown",
   "id": "5c3a16c6-4f82-465c-85e6-2149d89831e3",
   "metadata": {},
   "source": [
    "The final step is to fuse everything together: The classical algorithm, together with the incrementor and the knowledge about the ControlEnvironment."
   ]
  },
  {
   "cell_type": "code",
   "execution_count": 8,
   "id": "28056cc5-0e06-4980-8437-24bd10c690f1",
   "metadata": {},
   "outputs": [
    {
     "name": "stdout",
     "output_type": "stream",
     "text": [
      "{24: 1.0}                                                                            \u001b[2K\n"
     ]
    }
   ],
   "source": [
    "# TO-DO\n",
    "# Create the multiplyer\n",
    "for i in range(len(a)):\n",
    "    for j in range(len(b)):\n",
    "        with control([a[i], b[j]]):\n",
    "            increment(2**(i+j), s)\n",
    "\n",
    "print(s)"
   ]
  },
  {
   "cell_type": "markdown",
   "id": "d8a8925d-1f54-4e55-a85d-93cc8e4fb07c",
   "metadata": {},
   "source": [
    "To move up one step in the hierarchy of abstractions, it is not sufficient to simply have some working code. In order to test, maintain, benchmark etc. you need it in the form of a function. Collect the relevant snippets from above to define a function."
   ]
  },
  {
   "cell_type": "code",
   "execution_count": 9,
   "id": "36876015-920f-4bed-8b8c-a9f1e6a57765",
   "metadata": {},
   "outputs": [],
   "source": [
    "\n",
    "def q_multiplyer(a, b, inpl_adder = fourier_adder):\n",
    "    \"\"\"\n",
    "    Multiplies the values of the QuantumFloats a, b and returns the value as a QuantumFloat\n",
    "    \n",
    "    Parameters\n",
    "    ----------\n",
    "    a : QuantumFloat\n",
    "        The first factor.\n",
    "    a : QuantumFloat\n",
    "        The second factor.\n",
    "    Returns\n",
    "    -------\n",
    "    s : QuantumFloat\n",
    "        The product of the two factors.\n",
    "    \"\"\"\n",
    "    \n",
    "    # TO-DO\n",
    "    # Collect the code from the previous cells to satisfy the requirements.\n",
    "    s = QuantumFloat(len(a) + len(b))\n",
    "\n",
    "    for i in range(len(a)):\n",
    "        for j in range(len(b)):\n",
    "            with control([a[i], b[j]]):\n",
    "                increment(2**(i+j), s)\n",
    "\n",
    "    return s\n",
    "    "
   ]
  },
  {
   "cell_type": "code",
   "execution_count": 10,
   "id": "bbd7d18c-ace5-4378-b4d1-80fef3038a40",
   "metadata": {},
   "outputs": [
    {
     "name": "stdout",
     "output_type": "stream",
     "text": [
      "Congratulations! Your implementation works.                                          \u001b[2K\n"
     ]
    }
   ],
   "source": [
    "# Test the result\n",
    "for i in range(1, 5):\n",
    "\n",
    "    a = QuantumFloat(i)\n",
    "    b = QuantumFloat(i)\n",
    "    h(a)\n",
    "    h(b)\n",
    "    \n",
    "    s = q_multiplyer(a, b)\n",
    "\n",
    "    meas_res = multi_measurement([a,b,s])\n",
    "\n",
    "    for a, b, s in meas_res.keys():\n",
    "        if a*b != s:\n",
    "            raise\n",
    "    \n",
    "print(\"Congratulations! Your implementation works.\")"
   ]
  },
  {
   "cell_type": "markdown",
   "id": "34ee8d3f-1b50-4037-8d73-2a12745a6de4",
   "metadata": {},
   "source": [
    "Now that you have a tested solution, you want to benchmark it and subsequently make it more efficient. To measure the performance of your function, you call the `.compile` method of the `.qs` attribute of an arbitrary `QuantumVariable` participating in your solution. The `.qs` attribute contains the [QuantumSession](https://www.qrisp.eu/reference/Core/QuantumSession.html#qrisp.QuantumSession) which manages the lifetime cycle of `QuantumVariable`s and other aspects of high-level abstractions. The [compile](https://www.qrisp.eu/reference/Core/generated/qrisp.QuantumSession.compile.html#qrisp.QuantumSession.compile) method turns the `QuantumSession` into a [QuantumCircuit](https://www.qrisp.eu/reference/Circuit%20Construction/QuantumCircuit.html#qrisp.QuantumCircuit) that allows you to translate your function to Qiskit or other circuit representations."
   ]
  },
  {
   "cell_type": "code",
   "execution_count": 11,
   "id": "99d96ce1-fff1-4a1c-a9cb-2b5d70899f5d",
   "metadata": {},
   "outputs": [
    {
     "name": "stdout",
     "output_type": "stream",
     "text": [
      "Circuit depth: 2065\n",
      "Qubit count: 21\n",
      "Gate count: {'h': 310, 'ry': 200, 'cx': 2060, 'p': 1737}\n"
     ]
    }
   ],
   "source": [
    "a = QuantumFloat(5)\n",
    "b = QuantumFloat(5)\n",
    "h(a)\n",
    "h(b)\n",
    "\n",
    "s = q_multiplyer(a, b)\n",
    "\n",
    "qc = s.qs.compile().transpile()\n",
    "\n",
    "print(f\"Circuit depth: {qc.depth()}\")\n",
    "print(f\"Qubit count: {qc.num_qubits()}\")\n",
    "print(f\"Gate count: {qc.count_ops()}\")"
   ]
  },
  {
   "cell_type": "markdown",
   "id": "7becafe2-036d-486e-8a42-6ecca920ab8e",
   "metadata": {},
   "source": [
    "Quite good already!\n",
    "\n",
    "To improve the multiplyer we can now harness the fact we developed the multiplyer in a modular fashion, that is we can easily exchange the adder. The adder that we used so far is described [here](https://arxiv.org/abs/quant-ph/0008033) and utilizes the fact that it is very cheap (in terms of CNOT count) to perform additions on the Fourier transform of the state. The `fourier_adder` function therefore performs a Fourier transform, executes the addition as described in Draper's paper and subsequently reverses the Fourier transform.\n",
    "Why is this innefficient? Well, we have an algorithm at hand that performs a large number of subsequent additions, so it would be much cheaper to transform once at the beginning and then simply *stay* in the Fourier transform until the end. For situations like this, the `fourier_adder` function exposes the keyword `perform_QFT`, which - if set to `False` skips both Fourier transforms."
   ]
  },
  {
   "cell_type": "code",
   "execution_count": 12,
   "id": "2dbb71eb-1344-4d61-92f6-cd0f09d53ee2",
   "metadata": {},
   "outputs": [
    {
     "name": "stdout",
     "output_type": "stream",
     "text": [
      "{13: 1.0}                                                                            \u001b[2K\n"
     ]
    }
   ],
   "source": [
    "# Define a function that performs fourier addition without entering/leaving fourier space\n",
    "def reduced_fourier_adder(a, b):\n",
    "    return fourier_adder(a, b, perform_QFT = False)\n",
    "\n",
    "a = QuantumFloat(4)\n",
    "b = QuantumFloat(4)\n",
    "\n",
    "a[:] = 3\n",
    "b[:] = 4\n",
    "\n",
    "# Call the adder wrapped with \"manual\" fourier transforms\n",
    "QFT(b, exec_swap = False)\n",
    "\n",
    "# This performs multiple subsequent adder calls \"b += a\"\n",
    "# without peforming a QFT in between.\n",
    "reduced_fourier_adder(a, b)\n",
    "reduced_fourier_adder(a, b)\n",
    "reduced_fourier_adder(a, b)\n",
    "\n",
    "QFT(b, exec_swap = False, inv = True)\n",
    "\n",
    "print(b)"
   ]
  },
  {
   "cell_type": "markdown",
   "id": "d10a447e-fefa-484c-9e3c-a00bdb2997be",
   "metadata": {},
   "source": [
    "Modify the multiplyer by performing the initial and the final QFT manually and call use the `reduced_fourier_adder` for the `increment` function!"
   ]
  },
  {
   "cell_type": "code",
   "execution_count": 13,
   "id": "efdd9f96-78fa-492f-9f20-d56695d48b7e",
   "metadata": {},
   "outputs": [
    {
     "name": "stdout",
     "output_type": "stream",
     "text": [
      "{35: 1.0}                                                                            \u001b[2K\n"
     ]
    }
   ],
   "source": [
    "\n",
    "def q_multiplyer(a, b, inpl_adder = fourier_adder):\n",
    "    \"\"\"\n",
    "    Multiplies the values of the QuantumFloats a, b and returns the value as a QuantumFloat\n",
    "    \n",
    "    Parameters\n",
    "    ----------\n",
    "    a : QuantumFloat\n",
    "        The first factor.\n",
    "    a : QuantumFloat\n",
    "        The second factor.\n",
    "    Returns\n",
    "    -------\n",
    "    s : QuantumFloat\n",
    "        The product of the two factors.\n",
    "    \"\"\"\n",
    "    \n",
    "    s = QuantumFloat(len(a) + len(b))\n",
    "\n",
    "    # TO-DO\n",
    "    # Modify the code from your q_multiplyer such that the increment function\n",
    "    # uses the reduced_fourier_adder instead\n",
    "    \n",
    "    QFT(s, exec_swap = False)\n",
    "    for i in range(len(a)):\n",
    "        for j in range(len(b)):\n",
    "            with control([a[i], b[j]]):\n",
    "                increment(2**(i+j), s, inpl_adder = reduced_fourier_adder)\n",
    "\n",
    "    QFT(s, exec_swap = False, inv = True)\n",
    "    return s\n",
    "\n",
    "a = QuantumFloat(5)\n",
    "a[:] = 5\n",
    "\n",
    "b = QuantumFloat(5)\n",
    "b[:] = 7\n",
    "\n",
    "s = q_multiplyer(a, b)\n",
    "\n",
    "print(s)\n"
   ]
  },
  {
   "cell_type": "code",
   "execution_count": 14,
   "id": "e08d7c70-40e7-4f22-9aad-0ca149c5b971",
   "metadata": {},
   "outputs": [
    {
     "name": "stdout",
     "output_type": "stream",
     "text": [
      "Congratulations! Your implementation works.                                          \u001b[2K\u001b[2K\n"
     ]
    }
   ],
   "source": [
    "# Test the result\n",
    "for i in range(1, 5):\n",
    "\n",
    "    a = QuantumFloat(i)\n",
    "    b = QuantumFloat(i)\n",
    "    h(a)\n",
    "    h(b)\n",
    "    \n",
    "    s = q_multiplyer(a, b)\n",
    "\n",
    "    meas_res = multi_measurement([a,b,s])\n",
    "    \n",
    "\n",
    "    for a, b, s in meas_res.keys():\n",
    "        if a*b != s:\n",
    "            raise\n",
    "    \n",
    "print(\"Congratulations! Your implementation works.\")"
   ]
  },
  {
   "cell_type": "markdown",
   "id": "ca4cd11e-642c-4068-87d4-d066d4fc1f03",
   "metadata": {},
   "source": [
    "To measure the difference in performance, we benchmark again."
   ]
  },
  {
   "cell_type": "code",
   "execution_count": 15,
   "id": "51708cd5-5f43-41e1-a4ee-e496b289ba36",
   "metadata": {},
   "outputs": [
    {
     "name": "stdout",
     "output_type": "stream",
     "text": [
      "Circuit depth: 189\n",
      "Qubit count: 29\n",
      "Gate count: {'h': 30, 'p': 513, 'ry': 200, 'cx': 540}\n"
     ]
    }
   ],
   "source": [
    "\n",
    "a = QuantumFloat(5)\n",
    "b = QuantumFloat(5)\n",
    "h(a)\n",
    "h(b)\n",
    "\n",
    "s = q_multiplyer(a, b)\n",
    "\n",
    "qc = s.qs.compile(8).transpile()\n",
    "\n",
    "print(f\"Circuit depth: {qc.depth()}\")\n",
    "print(f\"Qubit count: {qc.num_qubits()}\")\n",
    "print(f\"Gate count: {qc.count_ops()}\")"
   ]
  },
  {
   "cell_type": "markdown",
   "id": "bb117463-5dbe-4402-9adc-827f8874cf35",
   "metadata": {},
   "source": [
    "For the last challenge of this notebook, we want to make you familiar with the `workspace` keyword of the `.compile` method. This keyword allows you to give the compiler some extra qubits to work with, which can reduce the depth. By trying out different options, find the amount of workspace qubits, which is required to bring the depth below 200! Feel free to compare these results to the Qiskit implementation below!"
   ]
  },
  {
   "cell_type": "code",
   "execution_count": 16,
   "id": "fc77cda0-a49d-4e53-8ea8-24a3e145c27d",
   "metadata": {},
   "outputs": [
    {
     "name": "stdout",
     "output_type": "stream",
     "text": [
      "{12: 1024}\n",
      "Depth: 1845\n",
      "Gate count: OrderedDict([('u', 2028), ('cx', 1748), ('measure', 10)])\n",
      "Qubit count: 20\n"
     ]
    }
   ],
   "source": [
    "from qiskit import (QuantumCircuit, QuantumRegister,\n",
    "ClassicalRegister, Aer, execute, transpile)\n",
    "from qiskit.circuit.library import RGQFTMultiplier\n",
    "n = 5\n",
    "\n",
    "# Create Quantum Registers\n",
    "a = QuantumRegister(n)\n",
    "b = QuantumRegister(n)\n",
    "res = QuantumRegister(2*n)\n",
    "cl_res = ClassicalRegister(2*n)\n",
    "\n",
    "# Create QuantumCircuit\n",
    "qc = QuantumCircuit(a, b, res, cl_res)\n",
    "\n",
    "# Encode Values 3 and 4\n",
    "for i in range(len(a)):\n",
    "    if 3 & 1<<i: qc.x(a[i])\n",
    "for i in range(len(b)):\n",
    "    if 4 & 1<<i: qc.x(b[i])\n",
    "\n",
    "# Load a multiplyer function from the Qiskit library\n",
    "# and append the gate\n",
    "qc.append(RGQFTMultiplier(n, 2*n), list(a) + list(b) + list(res))\n",
    "\n",
    "# Measure the result qubits\n",
    "qc.measure(res, cl_res)\n",
    "\n",
    "qc = transpile(qc, basis_gates = [\"cx\", \"u\"])\n",
    "\n",
    "# Perform the simulation\n",
    "backend = Aer.get_backend('qasm_simulator')\n",
    "counts_dic = execute(qc, backend).result().get_counts()\n",
    "print({int(k, 2) : v for k, v in counts_dic.items()})\n",
    "#Yields: {12: 1024}\n",
    "\n",
    "# Benchmark\n",
    "from qiskit import transpile\n",
    "print(f\"Depth: {qc.depth()}\")\n",
    "print(f\"Gate count: {qc.count_ops()}\")\n",
    "print(f\"Qubit count: {qc.num_qubits}\")"
   ]
  }
 ],
 "metadata": {
  "kernelspec": {
   "display_name": "Python 3 (ipykernel)",
   "language": "python",
   "name": "python3"
  },
  "language_info": {
   "codemirror_mode": {
    "name": "ipython",
    "version": 3
   },
   "file_extension": ".py",
   "mimetype": "text/x-python",
   "name": "python",
   "nbconvert_exporter": "python",
   "pygments_lexer": "ipython3",
   "version": "3.10.6"
  }
 },
 "nbformat": 4,
 "nbformat_minor": 5
}
